{
 "cells": [
  {
   "cell_type": "code",
   "execution_count": 19,
   "metadata": {},
   "outputs": [],
   "source": [
    "import pandas as pd\n",
    "import numpy as np\n",
    "from sklearn.neighbors import KNeighborsRegressor\n",
    "from xgboost import XGBRegressor\n",
    "from lightgbm import LGBMRegressor\n",
    "from sklearn.model_selection import train_test_split\n",
    "from sklearn.metrics import mean_squared_error, r2_score\n",
    "from joblib import dump\n",
    "from sklearn.metrics import mean_squared_error, mean_absolute_error, r2_score, explained_variance_score\n",
    "from scipy.stats import linregress, skew, kurtosis\n",
    "\n",
    "import matplotlib.pyplot as plt\n",
    "from scipy import stats"
   ]
  },
  {
   "cell_type": "code",
   "execution_count": 20,
   "metadata": {},
   "outputs": [],
   "source": [
    "# 读取CSV文件\n",
    "df1 = pd.read_csv('mlp_input_received_128.csv')\n",
    "df2 = pd.read_csv('mlp_input_received_256.csv')\n",
    "df3 = pd.read_csv('mlp_input_received_512.csv')\n",
    "df4 = pd.read_csv('mlp_input_received_1024.csv')\n",
    "df5 = pd.read_csv('mlp_input_received_2048.csv')\n",
    "df6 = pd.read_csv('mlp_input_received_4096.csv')\n",
    "df7 = pd.read_csv('mlp_input_received_8192.csv')\n",
    "df8 = pd.read_csv('cnn_input_received_128.csv')\n",
    "df9 = pd.read_csv('cnn_input_received_256.csv')\n",
    "df10 = pd.read_csv('cnn_input_received_512.csv')\n",
    "df11 = pd.read_csv('cnn_input_received_1024.csv')\n",
    "df12 = pd.read_csv('cnn_input_received_2048.csv')\n",
    "df13 = pd.read_csv('cnn_input_received_4096.csv')\n",
    "df14 = pd.read_csv('cnn_input_received_8192.csv')\n",
    "\n"
   ]
  },
  {
   "cell_type": "code",
   "execution_count": 21,
   "metadata": {},
   "outputs": [
    {
     "data": {
      "image/png": "[encoded data removed]",
      "text/plain": [
       "<Figure size 864x864 with 1 Axes>"
      ]
     },
     "metadata": {
      "needs_background": "light"
     },
     "output_type": "display_data"
    }
   ],
   "source": [
    "# 提取数据\n",
    "data1 = df1.iloc[:, 2]\n",
    "data2 = df2.iloc[:, 2]\n",
    "data3 = df3.iloc[:, 2]\n",
    "data4 = df4.iloc[:, 2]\n",
    "data5 = df5.iloc[:, 2]\n",
    "data6 = df6.iloc[:, 2]\n",
    "data7 = df7.iloc[:, 2]\n",
    "data8 = df1.iloc[:, 2]\n",
    "data9 = df2.iloc[:, 2]\n",
    "data10 = df3.iloc[:, 2]\n",
    "data11 = df4.iloc[:, 2]\n",
    "data12 = df5.iloc[:, 2]\n",
    "data13 = df6.iloc[:, 2]\n",
    "data14 = df7.iloc[:, 2]\n",
    "\n",
    "\n",
    "# Combine the data\n",
    "X = data1.append([data2, data3, data4, data5, data6, data7, data8, data9, data10, data11, data12, data13, data14], ignore_index=True)\n",
    "\n",
    "# Create target values\n",
    "imgae_size= 784*4\n",
    "y = pd.Series([128*imgae_size]*len(data1) + [256*imgae_size]*len(data2) + [512*imgae_size]*len(data3) + [1024*imgae_size]*len(data4) + [2048*imgae_size]*len(data5) + [4096*imgae_size]*len(data6) + [8192*imgae_size]*len(data7) + [128*imgae_size]*len(data8) + [256*imgae_size]*len(data9) + [512*imgae_size]*len(data10) + [1024*imgae_size]*len(data11) + [2048*imgae_size]*len(data12) + [4096*imgae_size]*len(data13) + [8192*imgae_size]*len(data14))\n",
    "\n",
    "\n",
    "# Plotting all time series data together\n",
    "plt.figure(figsize=(12, 12))\n",
    "plt.plot(X, label='all data ')\n",
    "plt.plot(y, label='y')\n",
    "# plt.plot(data3, label='Batchs size: 512, transfer size = 1.53125 MB')\n",
    "# plt.plot(data4, label='Batchs size: 1024, transfer size = 3.0625 MB')\n",
    "# plt.plot(data5, label='Batchs size: 2048, transfer size = 6.125 MB')\n",
    "plt.title('pcie_total_data_received')\n",
    "plt.legend()\n",
    "plt.show()\n"
   ]
  },
  {
   "cell_type": "code",
   "execution_count": null,
   "metadata": {},
   "outputs": [],
   "source": [
    "# Define window size\n",
    "window_size = 100\n",
    "\n",
    "# Feature Extraction Function\n",
    "def extract_window_features(series, window_size):\n",
    "    slope, _, _, _, _ = linregress(np.arange(window_size), series)\n",
    "    return {\n",
    "        'mean': series.mean(),\n",
    "        'std': series.std(),\n",
    "        'min': series.min(),\n",
    "        'max': series.max(),\n",
    "        'slope': slope,\n",
    "        'skew': skew(series),\n",
    "        'kurtosis': kurtosis(series)\n",
    "    }\n",
    "\n",
    "# Applying the sliding window\n",
    "feature_list = []\n",
    "for i in range(len(X) - window_size + 1):\n",
    "    window = X[i:i + window_size]\n",
    "    features = extract_window_features(window, window_size)\n",
    "    feature_list.append(features)\n",
    "\n",
    "# Convert the feature list to a DataFrame\n",
    "X_features = pd.DataFrame(feature_list)\n",
    "\n",
    "# Adjust the target to match the features length\n",
    "y_adjusted = y[window_size - 1:]"
   ]
  },
  {
   "cell_type": "code",
   "execution_count": null,
   "metadata": {},
   "outputs": [],
   "source": [
    "np.savetxt('X_features.csv', X, delimiter=',')\n",
    "np.savetxt('y_adjusted.csv', y_adjusted, delimiter=',')\n"
   ]
  },
  {
   "cell_type": "code",
   "execution_count": null,
   "metadata": {},
   "outputs": [],
   "source": [
    "# Splitting the dataset\n",
    "X_train, X_test, y_train, y_test = train_test_split(X_features, y_adjusted, test_size=0.2, random_state=42)\n"
   ]
  },
  {
   "cell_type": "code",
   "execution_count": null,
   "metadata": {},
   "outputs": [],
   "source": [
    "\n",
    "# Define models\n",
    "models = {\n",
    "    \"KNN\": KNeighborsRegressor(n_neighbors=5, weights='uniform', metric='euclidean'),\n",
    "    \"XGBoost\": XGBRegressor(n_estimators=100, learning_rate=0.1, max_depth=3, subsample=0.5),\n",
    "    \"LightGBM\": LGBMRegressor(n_estimators=100, learning_rate=0.1, max_depth=-1, num_leaves=31)\n",
    "}\n",
    "\n",
    "# Train, evaluate, and save models\n",
    "for name, model in models.items():\n",
    "    model.fit(X_train, y_train)\n",
    "    \n",
    "    # Save model\n",
    "    joblib.dump(model, f'{name}_model.pkl')\n",
    "\n",
    "    # Predictions\n",
    "    y_pred = model.predict(X_test)\n",
    "\n",
    "    # Evaluation\n",
    "    mse = mean_squared_error(y_test, y_pred)\n",
    "    rmse = np.sqrt(mse)\n",
    "    mae = mean_absolute_error(y_test, y_pred)\n",
    "    r2 = r2_score(y_test, y_pred)\n",
    "    explained_variance = explained_variance_score(y_test, y_pred)\n",
    "    \n",
    "    print(f\"{name} Model Evaluation:\")\n",
    "    print(f\"  MSE: {mse}\")\n",
    "    print(f\"  RMSE: {rmse}\")\n",
    "    print(f\"  MAE: {mae}\")\n",
    "    print(f\"  R2 Score: {r2}\")\n",
    "    print(f\"  Explained Variance: {explained_variance}\\n\")"
   ]
  },
  {
   "cell_type": "code",
   "execution_count": null,
   "metadata": {},
   "outputs": [],
   "source": []
  },
  {
   "cell_type": "code",
   "execution_count": null,
   "metadata": {},
   "outputs": [],
   "source": []
  }
 ],
 "metadata": {
  "kernelspec": {
   "display_name": "Python 3",
   "language": "python",
   "name": "python3"
  },
  "language_info": {
   "codemirror_mode": {
    "name": "ipython",
    "version": 3
   },
   "file_extension": ".py",
   "mimetype": "text/x-python",
   "name": "python",
   "nbconvert_exporter": "python",
   "pygments_lexer": "ipython3",
   "version": "3.8.5"
  }
 },
 "nbformat": 4,
 "nbformat_minor": 4
}
