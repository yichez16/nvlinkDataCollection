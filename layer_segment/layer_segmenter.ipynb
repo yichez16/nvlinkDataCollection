{
 "cells": [
  {
   "cell_type": "code",
   "execution_count": 1,
   "metadata": {},
   "outputs": [],
   "source": [
    "import pandas as pd\n",
    "import matplotlib.pyplot as plt\n",
    "import numpy as np\n",
    "from scipy import stats"
   ]
  },
  {
   "cell_type": "code",
   "execution_count": 13,
   "metadata": {},
   "outputs": [],
   "source": [
    "# 读取CSV文件\n",
    "df1 = pd.read_csv('mlp_input_received_128.csv')\n",
    "df2 = pd.read_csv('mlp_input_received_256.csv')\n",
    "df3 = pd.read_csv('mlp_input_received_512.csv')\n",
    "df4 = pd.read_csv('mlp_input_received_1024.csv')\n",
    "df5 = pd.read_csv('mlp_input_received_2048.csv')\n",
    "df6 = pd.read_csv('mlp_input_received_4096.csv')\n",
    "df7 = pd.read_csv('mlp_input_received_8192.csv')\n",
    "df8 = pd.read_csv('cnn_input_received_128.csv')\n",
    "df9 = pd.read_csv('cnn_input_received_256.csv')\n",
    "df10 = pd.read_csv('cnn_input_received_512.csv')\n",
    "df11 = pd.read_csv('cnn_input_received_1024.csv')\n",
    "df12 = pd.read_csv('cnn_input_received_2048.csv')\n",
    "df13 = pd.read_csv('cnn_input_received_4096.csv')\n",
    "df14 = pd.read_csv('cnn_input_received_8192.csv')\n",
    "\n"
   ]
  },
  {
   "cell_type": "code",
   "execution_count": 14,
   "metadata": {},
   "outputs": [
    {
     "data": {
      "image/png": "[encoded data removed]",
      "text/plain": [
       "<Figure size 864x864 with 1 Axes>"
      ]
     },
     "metadata": {
      "needs_background": "light"
     },
     "output_type": "display_data"
    }
   ],
   "source": [
    "# 提取数据\n",
    "data1 = df1.iloc[:, 2]\n",
    "data2 = df2.iloc[:, 2]\n",
    "data3 = df3.iloc[:, 2]\n",
    "data4 = df4.iloc[:, 2]\n",
    "data5 = df5.iloc[:, 2]\n",
    "data6 = df6.iloc[:, 2]\n",
    "data7 = df7.iloc[:, 2]\n",
    "data8 = df1.iloc[:, 2]\n",
    "data9 = df2.iloc[:, 2]\n",
    "data10 = df3.iloc[:, 2]\n",
    "data11 = df4.iloc[:, 2]\n",
    "data12 = df5.iloc[:, 2]\n",
    "data13 = df6.iloc[:, 2]\n",
    "data14 = df7.iloc[:, 2]\n",
    "\n",
    "all_data = data1.append([data2, data3, data4, data5, data6, data7, data8, data9, data10, data11, data12, data13, data14], ignore_index=True)\n",
    "\n",
    "\n",
    "# Plotting all time series data together\n",
    "plt.figure(figsize=(12, 12))\n",
    "plt.plot(all_data, label='all data ')\n",
    "# plt.plot(data2, label='Batchs size: 256, transfer size = 0.765625 MB')\n",
    "# plt.plot(data3, label='Batchs size: 512, transfer size = 1.53125 MB')\n",
    "# plt.plot(data4, label='Batchs size: 1024, transfer size = 3.0625 MB')\n",
    "# plt.plot(data5, label='Batchs size: 2048, transfer size = 6.125 MB')\n",
    "plt.title('pcie_total_data_received')\n",
    "plt.legend()\n",
    "plt.show()\n"
   ]
  },
  {
   "cell_type": "code",
   "execution_count": 15,
   "metadata": {},
   "outputs": [],
   "source": [
    "# Parameters\n",
    "window_size = 100  # size of the window\n",
    "threshold = 300000  # Threshold for labeling\n",
    "\n",
    "# Initialize labels with zeros\n",
    "boundary_labels = np.zeros(len(all_data) - window_size)\n",
    "\n",
    "# Label windows based on your criteria\n",
    "for i in range(2300, len(all_data) - window_size):\n",
    "    if np.any(all_data[i:i+window_size] > threshold):\n",
    "        boundary_labels[i] = 1\n",
    "\n",
    "# Create windows\n",
    "X = np.array([all_data[i:i+window_size] for i in range(len(all_data)-window_size)])\n"
   ]
  },
  {
   "cell_type": "code",
   "execution_count": 16,
   "metadata": {},
   "outputs": [
    {
     "data": {
      "text/plain": [
       "array([[3341312,   13312,   12800, ...,   13312,   14848,   13312],\n",
       "       [  13312,   12800,   13312, ...,   14848,   13312,   12800],\n",
       "       [  12800,   13312,   12800, ...,   13312,   12800,   13312],\n",
       "       ...,\n",
       "       [  13312,   12800,   13312, ...,   12800,   13312,   12800],\n",
       "       [  12800,   13312,   12800, ...,   13312,   12800,   13312],\n",
       "       [  13312,   12800,   13312, ...,   12800,   13312,   12800]],\n",
       "      dtype=int64)"
      ]
     },
     "execution_count": 16,
     "metadata": {},
     "output_type": "execute_result"
    }
   ],
   "source": [
    "X"
   ]
  },
  {
   "cell_type": "code",
   "execution_count": 17,
   "metadata": {},
   "outputs": [
    {
     "data": {
      "text/plain": [
       "array([0., 0., 0., ..., 0., 0., 0.])"
      ]
     },
     "execution_count": 17,
     "metadata": {},
     "output_type": "execute_result"
    }
   ],
   "source": [
    "boundary_labels"
   ]
  },
  {
   "cell_type": "code",
   "execution_count": 18,
   "metadata": {},
   "outputs": [],
   "source": [
    "np.savetxt('X.csv', X, delimiter=',')\n"
   ]
  },
  {
   "cell_type": "code",
   "execution_count": 19,
   "metadata": {},
   "outputs": [],
   "source": [
    "np.savetxt('boundary_labels.csv', boundary_labels, delimiter=',')\n"
   ]
  },
  {
   "cell_type": "code",
   "execution_count": null,
   "metadata": {},
   "outputs": [],
   "source": [
    "import numpy as np\n",
    "from sklearn.model_selection import train_test_split\n",
    "from sklearn.neighbors import KNeighborsClassifier\n",
    "from xgboost import XGBClassifier\n",
    "from lightgbm import LGBMClassifier\n",
    "from sklearn.metrics import classification_report\n",
    "from sklearn.metrics import classification_report, confusion_matrix, accuracy_score\n",
    "from sklearn.metrics import roc_auc_score, roc_curve, auc\n",
    "import matplotlib.pyplot as plt\n",
    "\n",
    "# def extract_features(window):\n",
    "#     # Example features: mean and standard deviation\n",
    "#     return [np.mean(window), np.std(window)]\n",
    "\n",
    "# # Apply feature extraction to each window\n",
    "# X_features = np.array([extract_features(window) for window in X])\n",
    "\n",
    "# Prepare the dataset\n",
    "X_train, X_test, y_train, y_test = train_test_split(X, boundary_labels, test_size=0.2, random_state=42)\n",
    "\n",
    "\n",
    "\n",
    "# KNN Classifier\n",
    "knn_model = KNeighborsClassifier(n_neighbors=5, weights='uniform', metric='euclidean')\n",
    "knn_model.fit(X_train, y_train)\n",
    "knn_predictions = knn_model.predict(X_test)\n",
    "\n",
    "# XGBoost Classifier\n",
    "xgb_model = XGBClassifier(n_estimators=100, learning_rate=0.1, max_depth=3, subsample=0.8)\n",
    "xgb_model.fit(X_train, y_train)\n",
    "xgb_predictions = xgb_model.predict(X_test)\n",
    "\n",
    "# LightGBM Classifier\n",
    "lgbm_model = LGBMClassifier(n_estimators=100, learning_rate=0.1, max_depth=-1, num_leaves=31)\n",
    "lgbm_model.fit(X_train, y_train)\n",
    "lgbm_predictions = lgbm_model.predict(X_test)\n",
    "\n",
    "\n",
    "\n",
    "\n",
    "# Evaluation\n",
    "print(\"KNN Classification Report:\")\n",
    "print(classification_report(y_test, knn_predictions))\n",
    "\n",
    "print(\"XGBoost Classification Report:\")\n",
    "print(classification_report(y_test, xgb_predictions))\n",
    "\n",
    "print(\"LightGBM Classification Report:\")\n",
    "print(classification_report(y_test, lgbm_predictions))\n"
   ]
  },
  {
   "cell_type": "code",
   "execution_count": null,
   "metadata": {},
   "outputs": [],
   "source": []
  },
  {
   "cell_type": "code",
   "execution_count": null,
   "metadata": {},
   "outputs": [],
   "source": [
    "import numpy as np\n",
    "from sklearn.metrics import classification_report, confusion_matrix, accuracy_score\n",
    "from sklearn.metrics import roc_auc_score, roc_curve, auc\n",
    "import matplotlib.pyplot as plt\n",
    "\n",
    "# Function to plot ROC Curve\n",
    "def plot_roc_curve(fpr, tpr, model_name):\n",
    "    roc_auc = auc(fpr, tpr)\n",
    "    plt.plot(fpr, tpr, label=f'{model_name} AUC = {roc_auc:.2f}')\n",
    "    plt.plot([0, 1], [0, 1], 'k--')  # Dashed diagonal\n",
    "    # ... (Add labels, title, etc.)\n",
    "\n",
    "# Assuming you have your trained models and test data (X_test, y_test)\n",
    "# For each model (KNN, XGBoost, LightGBM)\n",
    "\n",
    "# Predict probabilities for ROC AUC Score\n",
    "# For KNN, probabilities are calculated differently\n",
    "# knn_probs = knn_model.predict_proba(X_test)[:, 1]\n",
    "xgb_probs = xgb_model.predict_proba(X_test)[:, 1]\n",
    "lgbm_probs = lgbm_model.predict_proba(X_test)[:, 1]\n",
    "\n",
    "# Calculate the ROC AUC Scores\n",
    "# knn_auc = roc_auc_score(y_test, knn_probs)\n",
    "xgb_auc = roc_auc_score(y_test, xgb_probs)\n",
    "lgbm_auc = roc_auc_score(y_test, lgbm_probs)\n",
    "\n",
    "# Calculate ROC curves\n",
    "# knn_fpr, knn_tpr, _ = roc_curve(y_test, knn_probs)\n",
    "xgb_fpr, xgb_tpr, _ = roc_curve(y_test, xgb_probs)\n",
    "lgbm_fpr, lgbm_tpr, _ = roc_curve(y_test, lgbm_probs)\n",
    "\n",
    "# Plot the ROC curve for each model\n",
    "plt.figure(figsize=(8, 6))\n",
    "# plot_roc_curve(knn_fpr, knn_tpr, 'KNN')\n",
    "plot_roc_curve(xgb_fpr, xgb_tpr, 'XGBoost')\n",
    "plot_roc_curve(lgbm_fpr, lgbm_tpr, 'LightGBM')\n",
    "plt.xlabel('False Positive Rate')\n",
    "plt.ylabel('True Positive Rate')\n",
    "plt.title('ROC Curves')\n",
    "plt.legend(loc='best')\n",
    "plt.show()\n",
    "\n",
    "# Evaluation reports\n",
    "for model, name in zip([knn_model, xgb_model, lgbm_model], [\"KNN\", \"XGBoost\", \"LightGBM\"]):\n",
    "    predictions = model.predict(X_test)\n",
    "    print(f\"{name} Classification Report:\")\n",
    "    print(classification_report(y_test, predictions, digits= 6))\n",
    "    print(\"Confusion Matrix:\")\n",
    "    print(confusion_matrix(y_test, predictions))\n",
    "    print(\"Accuracy Score:\", accuracy_score(y_test, predictions))\n",
    "    print(\"\\n\")\n"
   ]
  },
  {
   "cell_type": "code",
   "execution_count": null,
   "metadata": {},
   "outputs": [],
   "source": []
  },
  {
   "cell_type": "code",
   "execution_count": null,
   "metadata": {},
   "outputs": [],
   "source": []
  },
  {
   "cell_type": "code",
   "execution_count": null,
   "metadata": {},
   "outputs": [],
   "source": []
  }
 ],
 "metadata": {
  "kernelspec": {
   "display_name": "Python 3",
   "language": "python",
   "name": "python3"
  },
  "language_info": {
   "codemirror_mode": {
    "name": "ipython",
    "version": 3
   },
   "file_extension": ".py",
   "mimetype": "text/x-python",
   "name": "python",
   "nbconvert_exporter": "python",
   "pygments_lexer": "ipython3",
   "version": "3.8.5"
  }
 },
 "nbformat": 4,
 "nbformat_minor": 4
}
